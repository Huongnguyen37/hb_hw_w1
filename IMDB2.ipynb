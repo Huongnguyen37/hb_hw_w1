{
 "cells": [
  {
   "cell_type": "markdown",
   "metadata": {},
   "source": [
    "# Homework week 1: IMDB list"
   ]
  },
  {
   "cell_type": "markdown",
   "metadata": {},
   "source": [
    "Nhóm mình chỉ có mình chị đi buổi present đợt trước nên c tóm tắt lại 2 ý quan trọng của Kai trong buổi đó nhé: \n",
    "1. Bài present phải có 1 câu hỏi chủ đề. Nghĩa là mình đang đi tìm câu trả lời cho câu hỏi nào, problem gì. \n",
    "2. Bài present phải có structure mạch lạc & logic. \n",
    "\n",
    "Với dataset IMDB này, câu hỏi của bt khá rõ ràng: \"In this project, we take IMDB SCORE as response variable and focus on operating predictions by analyzing the rest of variables in the IMDB 5000 movie data. The results can help film companies to understand the secret of generating a COMMERCIAL SUCCESS movie\".  \n",
    "Tuy nhiên chị có 2 remarks ở đây: \n",
    "1. \"a commercial success movie\" : thành công về mặt thương mại nghĩa là tỉ suất lợi nhuận cao so với vốn bỏ ra (doanh thu trừ đi chi phí). Vậy phải focus vào 2 cột budget & gross để tính ra lợi nhuận thương mại. \n",
    "2. \"IMDB score = response variable\": ok dựa vào Imdb để quan sát các yếu tố khác thì cũng được thôi, Imdb là một biến khá bias, tuy nhiên dùng nó để quan sát thì cũng tạm được so với các biến khác trong dataset. \n",
    "\n",
    "Theo mạch này, chị đề xuất chủ đề của bài nhóm mình sẽ là \"What are the common points of top commercial success movies?\" nghĩa là mình sẽ đứng ở góc nhìn của 1 nhà đầu tư, đi tìm điểm chung của các bộ phim thành công về mặt thương mại, từ đó rút ra advise cho investor."
   ]
  },
  {
   "cell_type": "markdown",
   "metadata": {},
   "source": [
    "Structure của bài: \n",
    "1. Exploring dataset: get to know the dataframe, get a few first observation. \n",
    "\n",
    "2. Commercial success metrics: c đề nghị dùng ROI để đo độ success của each movie. Bước này sẽ bổ sung cột ROI của từng movie. \n",
    "\n",
    "3. Processing data: gồm 2 phần là Cleaning data (bỏ các row n/a, null, dummies) và Processing dataP (tách các genres ra để observe ở bước sau như Hưng đề xuất, sort ROI descending order, lấy list top_100_success etc...). Tại sao bh mới clean data? vì mình quan sát ROI thôi chứ các yếu tố khác ko quá quan trọng, thiếu 1 2 row cũng đc chị suppose. \n",
    "\n",
    "4. Observe data: plot dataframe top_100_success có được ở bước 3 theo nhiều angle khác nhau để soi xem có những điểm chung lớn nào. \n",
    "\n",
    "5. Extra: observe top_100_failure, top_100_imdb_score để xem có j đối lập hoàn toàn không?? nếu nó cũng pattern y chang nhóm top_100_success thì chết bà... \n",
    "\n",
    "6. Conclusion"
   ]
  },
  {
   "cell_type": "markdown",
   "metadata": {},
   "source": [
    "## 1. EXPLORING DATASET"
   ]
  },
  {
   "cell_type": "code",
   "execution_count": 1,
   "metadata": {},
   "outputs": [],
   "source": [
    "import pandas as pd\n",
    "import numpy as np\n",
    "import seaborn as sns\n",
    "import matplotlib.pyplot as plt"
   ]
  },
  {
   "cell_type": "code",
   "execution_count": 2,
   "metadata": {},
   "outputs": [],
   "source": [
    "data = pd.read_csv('movie_metadata.csv')"
   ]
  },
  {
   "cell_type": "code",
   "execution_count": 3,
   "metadata": {},
   "outputs": [
    {
     "data": {
      "text/plain": [
       "(5043, 28)"
      ]
     },
     "execution_count": 3,
     "metadata": {},
     "output_type": "execute_result"
    }
   ],
   "source": [
    "data.shape"
   ]
  },
  {
   "cell_type": "code",
   "execution_count": 4,
   "metadata": {},
   "outputs": [
    {
     "data": {
      "text/html": [
       "<div>\n",
       "<style scoped>\n",
       "    .dataframe tbody tr th:only-of-type {\n",
       "        vertical-align: middle;\n",
       "    }\n",
       "\n",
       "    .dataframe tbody tr th {\n",
       "        vertical-align: top;\n",
       "    }\n",
       "\n",
       "    .dataframe thead th {\n",
       "        text-align: right;\n",
       "    }\n",
       "</style>\n",
       "<table border=\"1\" class=\"dataframe\">\n",
       "  <thead>\n",
       "    <tr style=\"text-align: right;\">\n",
       "      <th></th>\n",
       "      <th>color</th>\n",
       "      <th>director_name</th>\n",
       "      <th>num_critic_for_reviews</th>\n",
       "      <th>duration</th>\n",
       "      <th>director_facebook_likes</th>\n",
       "      <th>actor_3_facebook_likes</th>\n",
       "      <th>actor_2_name</th>\n",
       "      <th>actor_1_facebook_likes</th>\n",
       "      <th>gross</th>\n",
       "      <th>genres</th>\n",
       "      <th>...</th>\n",
       "      <th>num_user_for_reviews</th>\n",
       "      <th>language</th>\n",
       "      <th>country</th>\n",
       "      <th>content_rating</th>\n",
       "      <th>budget</th>\n",
       "      <th>title_year</th>\n",
       "      <th>actor_2_facebook_likes</th>\n",
       "      <th>imdb_score</th>\n",
       "      <th>aspect_ratio</th>\n",
       "      <th>movie_facebook_likes</th>\n",
       "    </tr>\n",
       "  </thead>\n",
       "  <tbody>\n",
       "    <tr>\n",
       "      <th>0</th>\n",
       "      <td>Color</td>\n",
       "      <td>James Cameron</td>\n",
       "      <td>723.0</td>\n",
       "      <td>178.0</td>\n",
       "      <td>0.0</td>\n",
       "      <td>855.0</td>\n",
       "      <td>Joel David Moore</td>\n",
       "      <td>1000.0</td>\n",
       "      <td>760505847.0</td>\n",
       "      <td>Action|Adventure|Fantasy|Sci-Fi</td>\n",
       "      <td>...</td>\n",
       "      <td>3054.0</td>\n",
       "      <td>English</td>\n",
       "      <td>USA</td>\n",
       "      <td>PG-13</td>\n",
       "      <td>237000000.0</td>\n",
       "      <td>2009.0</td>\n",
       "      <td>936.0</td>\n",
       "      <td>7.9</td>\n",
       "      <td>1.78</td>\n",
       "      <td>33000</td>\n",
       "    </tr>\n",
       "    <tr>\n",
       "      <th>1</th>\n",
       "      <td>Color</td>\n",
       "      <td>Gore Verbinski</td>\n",
       "      <td>302.0</td>\n",
       "      <td>169.0</td>\n",
       "      <td>563.0</td>\n",
       "      <td>1000.0</td>\n",
       "      <td>Orlando Bloom</td>\n",
       "      <td>40000.0</td>\n",
       "      <td>309404152.0</td>\n",
       "      <td>Action|Adventure|Fantasy</td>\n",
       "      <td>...</td>\n",
       "      <td>1238.0</td>\n",
       "      <td>English</td>\n",
       "      <td>USA</td>\n",
       "      <td>PG-13</td>\n",
       "      <td>300000000.0</td>\n",
       "      <td>2007.0</td>\n",
       "      <td>5000.0</td>\n",
       "      <td>7.1</td>\n",
       "      <td>2.35</td>\n",
       "      <td>0</td>\n",
       "    </tr>\n",
       "    <tr>\n",
       "      <th>2</th>\n",
       "      <td>Color</td>\n",
       "      <td>Sam Mendes</td>\n",
       "      <td>602.0</td>\n",
       "      <td>148.0</td>\n",
       "      <td>0.0</td>\n",
       "      <td>161.0</td>\n",
       "      <td>Rory Kinnear</td>\n",
       "      <td>11000.0</td>\n",
       "      <td>200074175.0</td>\n",
       "      <td>Action|Adventure|Thriller</td>\n",
       "      <td>...</td>\n",
       "      <td>994.0</td>\n",
       "      <td>English</td>\n",
       "      <td>UK</td>\n",
       "      <td>PG-13</td>\n",
       "      <td>245000000.0</td>\n",
       "      <td>2015.0</td>\n",
       "      <td>393.0</td>\n",
       "      <td>6.8</td>\n",
       "      <td>2.35</td>\n",
       "      <td>85000</td>\n",
       "    </tr>\n",
       "  </tbody>\n",
       "</table>\n",
       "<p>3 rows × 28 columns</p>\n",
       "</div>"
      ],
      "text/plain": [
       "   color   director_name  num_critic_for_reviews  duration  \\\n",
       "0  Color   James Cameron                   723.0     178.0   \n",
       "1  Color  Gore Verbinski                   302.0     169.0   \n",
       "2  Color      Sam Mendes                   602.0     148.0   \n",
       "\n",
       "   director_facebook_likes  actor_3_facebook_likes      actor_2_name  \\\n",
       "0                      0.0                   855.0  Joel David Moore   \n",
       "1                    563.0                  1000.0     Orlando Bloom   \n",
       "2                      0.0                   161.0      Rory Kinnear   \n",
       "\n",
       "   actor_1_facebook_likes        gross                           genres  \\\n",
       "0                  1000.0  760505847.0  Action|Adventure|Fantasy|Sci-Fi   \n",
       "1                 40000.0  309404152.0         Action|Adventure|Fantasy   \n",
       "2                 11000.0  200074175.0        Action|Adventure|Thriller   \n",
       "\n",
       "          ...          num_user_for_reviews language  country  content_rating  \\\n",
       "0         ...                        3054.0  English      USA           PG-13   \n",
       "1         ...                        1238.0  English      USA           PG-13   \n",
       "2         ...                         994.0  English       UK           PG-13   \n",
       "\n",
       "        budget  title_year actor_2_facebook_likes imdb_score  aspect_ratio  \\\n",
       "0  237000000.0      2009.0                  936.0        7.9          1.78   \n",
       "1  300000000.0      2007.0                 5000.0        7.1          2.35   \n",
       "2  245000000.0      2015.0                  393.0        6.8          2.35   \n",
       "\n",
       "  movie_facebook_likes  \n",
       "0                33000  \n",
       "1                    0  \n",
       "2                85000  \n",
       "\n",
       "[3 rows x 28 columns]"
      ]
     },
     "execution_count": 4,
     "metadata": {},
     "output_type": "execute_result"
    }
   ],
   "source": [
    "data.head(3)"
   ]
  },
  {
   "cell_type": "code",
   "execution_count": 5,
   "metadata": {},
   "outputs": [
    {
     "data": {
      "text/html": [
       "<div>\n",
       "<style scoped>\n",
       "    .dataframe tbody tr th:only-of-type {\n",
       "        vertical-align: middle;\n",
       "    }\n",
       "\n",
       "    .dataframe tbody tr th {\n",
       "        vertical-align: top;\n",
       "    }\n",
       "\n",
       "    .dataframe thead th {\n",
       "        text-align: right;\n",
       "    }\n",
       "</style>\n",
       "<table border=\"1\" class=\"dataframe\">\n",
       "  <thead>\n",
       "    <tr style=\"text-align: right;\">\n",
       "      <th></th>\n",
       "      <th>color</th>\n",
       "      <th>director_name</th>\n",
       "      <th>num_critic_for_reviews</th>\n",
       "      <th>duration</th>\n",
       "      <th>director_facebook_likes</th>\n",
       "      <th>actor_3_facebook_likes</th>\n",
       "      <th>actor_2_name</th>\n",
       "      <th>actor_1_facebook_likes</th>\n",
       "      <th>gross</th>\n",
       "      <th>genres</th>\n",
       "      <th>...</th>\n",
       "      <th>num_user_for_reviews</th>\n",
       "      <th>language</th>\n",
       "      <th>country</th>\n",
       "      <th>content_rating</th>\n",
       "      <th>budget</th>\n",
       "      <th>title_year</th>\n",
       "      <th>actor_2_facebook_likes</th>\n",
       "      <th>imdb_score</th>\n",
       "      <th>aspect_ratio</th>\n",
       "      <th>movie_facebook_likes</th>\n",
       "    </tr>\n",
       "  </thead>\n",
       "  <tbody>\n",
       "    <tr>\n",
       "      <th>count</th>\n",
       "      <td>5024</td>\n",
       "      <td>4939</td>\n",
       "      <td>4993.000000</td>\n",
       "      <td>5028.000000</td>\n",
       "      <td>4939.000000</td>\n",
       "      <td>5020.000000</td>\n",
       "      <td>5030</td>\n",
       "      <td>5036.000000</td>\n",
       "      <td>4.159000e+03</td>\n",
       "      <td>5043</td>\n",
       "      <td>...</td>\n",
       "      <td>5022.000000</td>\n",
       "      <td>5031</td>\n",
       "      <td>5038</td>\n",
       "      <td>4740</td>\n",
       "      <td>4.551000e+03</td>\n",
       "      <td>4935.000000</td>\n",
       "      <td>5030.000000</td>\n",
       "      <td>5043.000000</td>\n",
       "      <td>4714.000000</td>\n",
       "      <td>5043.000000</td>\n",
       "    </tr>\n",
       "    <tr>\n",
       "      <th>unique</th>\n",
       "      <td>2</td>\n",
       "      <td>2398</td>\n",
       "      <td>NaN</td>\n",
       "      <td>NaN</td>\n",
       "      <td>NaN</td>\n",
       "      <td>NaN</td>\n",
       "      <td>3032</td>\n",
       "      <td>NaN</td>\n",
       "      <td>NaN</td>\n",
       "      <td>914</td>\n",
       "      <td>...</td>\n",
       "      <td>NaN</td>\n",
       "      <td>47</td>\n",
       "      <td>65</td>\n",
       "      <td>18</td>\n",
       "      <td>NaN</td>\n",
       "      <td>NaN</td>\n",
       "      <td>NaN</td>\n",
       "      <td>NaN</td>\n",
       "      <td>NaN</td>\n",
       "      <td>NaN</td>\n",
       "    </tr>\n",
       "    <tr>\n",
       "      <th>top</th>\n",
       "      <td>Color</td>\n",
       "      <td>Steven Spielberg</td>\n",
       "      <td>NaN</td>\n",
       "      <td>NaN</td>\n",
       "      <td>NaN</td>\n",
       "      <td>NaN</td>\n",
       "      <td>Morgan Freeman</td>\n",
       "      <td>NaN</td>\n",
       "      <td>NaN</td>\n",
       "      <td>Drama</td>\n",
       "      <td>...</td>\n",
       "      <td>NaN</td>\n",
       "      <td>English</td>\n",
       "      <td>USA</td>\n",
       "      <td>R</td>\n",
       "      <td>NaN</td>\n",
       "      <td>NaN</td>\n",
       "      <td>NaN</td>\n",
       "      <td>NaN</td>\n",
       "      <td>NaN</td>\n",
       "      <td>NaN</td>\n",
       "    </tr>\n",
       "    <tr>\n",
       "      <th>freq</th>\n",
       "      <td>4815</td>\n",
       "      <td>26</td>\n",
       "      <td>NaN</td>\n",
       "      <td>NaN</td>\n",
       "      <td>NaN</td>\n",
       "      <td>NaN</td>\n",
       "      <td>20</td>\n",
       "      <td>NaN</td>\n",
       "      <td>NaN</td>\n",
       "      <td>236</td>\n",
       "      <td>...</td>\n",
       "      <td>NaN</td>\n",
       "      <td>4704</td>\n",
       "      <td>3807</td>\n",
       "      <td>2118</td>\n",
       "      <td>NaN</td>\n",
       "      <td>NaN</td>\n",
       "      <td>NaN</td>\n",
       "      <td>NaN</td>\n",
       "      <td>NaN</td>\n",
       "      <td>NaN</td>\n",
       "    </tr>\n",
       "    <tr>\n",
       "      <th>mean</th>\n",
       "      <td>NaN</td>\n",
       "      <td>NaN</td>\n",
       "      <td>140.194272</td>\n",
       "      <td>107.201074</td>\n",
       "      <td>686.509212</td>\n",
       "      <td>645.009761</td>\n",
       "      <td>NaN</td>\n",
       "      <td>6560.047061</td>\n",
       "      <td>4.846841e+07</td>\n",
       "      <td>NaN</td>\n",
       "      <td>...</td>\n",
       "      <td>272.770808</td>\n",
       "      <td>NaN</td>\n",
       "      <td>NaN</td>\n",
       "      <td>NaN</td>\n",
       "      <td>3.975262e+07</td>\n",
       "      <td>2002.470517</td>\n",
       "      <td>1651.754473</td>\n",
       "      <td>6.442138</td>\n",
       "      <td>2.220403</td>\n",
       "      <td>7525.964505</td>\n",
       "    </tr>\n",
       "    <tr>\n",
       "      <th>std</th>\n",
       "      <td>NaN</td>\n",
       "      <td>NaN</td>\n",
       "      <td>121.601675</td>\n",
       "      <td>25.197441</td>\n",
       "      <td>2813.328607</td>\n",
       "      <td>1665.041728</td>\n",
       "      <td>NaN</td>\n",
       "      <td>15020.759120</td>\n",
       "      <td>6.845299e+07</td>\n",
       "      <td>NaN</td>\n",
       "      <td>...</td>\n",
       "      <td>377.982886</td>\n",
       "      <td>NaN</td>\n",
       "      <td>NaN</td>\n",
       "      <td>NaN</td>\n",
       "      <td>2.061149e+08</td>\n",
       "      <td>12.474599</td>\n",
       "      <td>4042.438863</td>\n",
       "      <td>1.125116</td>\n",
       "      <td>1.385113</td>\n",
       "      <td>19320.445110</td>\n",
       "    </tr>\n",
       "    <tr>\n",
       "      <th>min</th>\n",
       "      <td>NaN</td>\n",
       "      <td>NaN</td>\n",
       "      <td>1.000000</td>\n",
       "      <td>7.000000</td>\n",
       "      <td>0.000000</td>\n",
       "      <td>0.000000</td>\n",
       "      <td>NaN</td>\n",
       "      <td>0.000000</td>\n",
       "      <td>1.620000e+02</td>\n",
       "      <td>NaN</td>\n",
       "      <td>...</td>\n",
       "      <td>1.000000</td>\n",
       "      <td>NaN</td>\n",
       "      <td>NaN</td>\n",
       "      <td>NaN</td>\n",
       "      <td>2.180000e+02</td>\n",
       "      <td>1916.000000</td>\n",
       "      <td>0.000000</td>\n",
       "      <td>1.600000</td>\n",
       "      <td>1.180000</td>\n",
       "      <td>0.000000</td>\n",
       "    </tr>\n",
       "    <tr>\n",
       "      <th>25%</th>\n",
       "      <td>NaN</td>\n",
       "      <td>NaN</td>\n",
       "      <td>50.000000</td>\n",
       "      <td>93.000000</td>\n",
       "      <td>7.000000</td>\n",
       "      <td>133.000000</td>\n",
       "      <td>NaN</td>\n",
       "      <td>614.000000</td>\n",
       "      <td>5.340988e+06</td>\n",
       "      <td>NaN</td>\n",
       "      <td>...</td>\n",
       "      <td>65.000000</td>\n",
       "      <td>NaN</td>\n",
       "      <td>NaN</td>\n",
       "      <td>NaN</td>\n",
       "      <td>6.000000e+06</td>\n",
       "      <td>1999.000000</td>\n",
       "      <td>281.000000</td>\n",
       "      <td>5.800000</td>\n",
       "      <td>1.850000</td>\n",
       "      <td>0.000000</td>\n",
       "    </tr>\n",
       "    <tr>\n",
       "      <th>50%</th>\n",
       "      <td>NaN</td>\n",
       "      <td>NaN</td>\n",
       "      <td>110.000000</td>\n",
       "      <td>103.000000</td>\n",
       "      <td>49.000000</td>\n",
       "      <td>371.500000</td>\n",
       "      <td>NaN</td>\n",
       "      <td>988.000000</td>\n",
       "      <td>2.551750e+07</td>\n",
       "      <td>NaN</td>\n",
       "      <td>...</td>\n",
       "      <td>156.000000</td>\n",
       "      <td>NaN</td>\n",
       "      <td>NaN</td>\n",
       "      <td>NaN</td>\n",
       "      <td>2.000000e+07</td>\n",
       "      <td>2005.000000</td>\n",
       "      <td>595.000000</td>\n",
       "      <td>6.600000</td>\n",
       "      <td>2.350000</td>\n",
       "      <td>166.000000</td>\n",
       "    </tr>\n",
       "    <tr>\n",
       "      <th>75%</th>\n",
       "      <td>NaN</td>\n",
       "      <td>NaN</td>\n",
       "      <td>195.000000</td>\n",
       "      <td>118.000000</td>\n",
       "      <td>194.500000</td>\n",
       "      <td>636.000000</td>\n",
       "      <td>NaN</td>\n",
       "      <td>11000.000000</td>\n",
       "      <td>6.230944e+07</td>\n",
       "      <td>NaN</td>\n",
       "      <td>...</td>\n",
       "      <td>326.000000</td>\n",
       "      <td>NaN</td>\n",
       "      <td>NaN</td>\n",
       "      <td>NaN</td>\n",
       "      <td>4.500000e+07</td>\n",
       "      <td>2011.000000</td>\n",
       "      <td>918.000000</td>\n",
       "      <td>7.200000</td>\n",
       "      <td>2.350000</td>\n",
       "      <td>3000.000000</td>\n",
       "    </tr>\n",
       "    <tr>\n",
       "      <th>max</th>\n",
       "      <td>NaN</td>\n",
       "      <td>NaN</td>\n",
       "      <td>813.000000</td>\n",
       "      <td>511.000000</td>\n",
       "      <td>23000.000000</td>\n",
       "      <td>23000.000000</td>\n",
       "      <td>NaN</td>\n",
       "      <td>640000.000000</td>\n",
       "      <td>7.605058e+08</td>\n",
       "      <td>NaN</td>\n",
       "      <td>...</td>\n",
       "      <td>5060.000000</td>\n",
       "      <td>NaN</td>\n",
       "      <td>NaN</td>\n",
       "      <td>NaN</td>\n",
       "      <td>1.221550e+10</td>\n",
       "      <td>2016.000000</td>\n",
       "      <td>137000.000000</td>\n",
       "      <td>9.500000</td>\n",
       "      <td>16.000000</td>\n",
       "      <td>349000.000000</td>\n",
       "    </tr>\n",
       "  </tbody>\n",
       "</table>\n",
       "<p>11 rows × 28 columns</p>\n",
       "</div>"
      ],
      "text/plain": [
       "        color     director_name  num_critic_for_reviews     duration  \\\n",
       "count    5024              4939             4993.000000  5028.000000   \n",
       "unique      2              2398                     NaN          NaN   \n",
       "top     Color  Steven Spielberg                     NaN          NaN   \n",
       "freq     4815                26                     NaN          NaN   \n",
       "mean      NaN               NaN              140.194272   107.201074   \n",
       "std       NaN               NaN              121.601675    25.197441   \n",
       "min       NaN               NaN                1.000000     7.000000   \n",
       "25%       NaN               NaN               50.000000    93.000000   \n",
       "50%       NaN               NaN              110.000000   103.000000   \n",
       "75%       NaN               NaN              195.000000   118.000000   \n",
       "max       NaN               NaN              813.000000   511.000000   \n",
       "\n",
       "        director_facebook_likes  actor_3_facebook_likes    actor_2_name  \\\n",
       "count               4939.000000             5020.000000            5030   \n",
       "unique                      NaN                     NaN            3032   \n",
       "top                         NaN                     NaN  Morgan Freeman   \n",
       "freq                        NaN                     NaN              20   \n",
       "mean                 686.509212              645.009761             NaN   \n",
       "std                 2813.328607             1665.041728             NaN   \n",
       "min                    0.000000                0.000000             NaN   \n",
       "25%                    7.000000              133.000000             NaN   \n",
       "50%                   49.000000              371.500000             NaN   \n",
       "75%                  194.500000              636.000000             NaN   \n",
       "max                23000.000000            23000.000000             NaN   \n",
       "\n",
       "        actor_1_facebook_likes         gross genres         ...           \\\n",
       "count              5036.000000  4.159000e+03   5043         ...            \n",
       "unique                     NaN           NaN    914         ...            \n",
       "top                        NaN           NaN  Drama         ...            \n",
       "freq                       NaN           NaN    236         ...            \n",
       "mean               6560.047061  4.846841e+07    NaN         ...            \n",
       "std               15020.759120  6.845299e+07    NaN         ...            \n",
       "min                   0.000000  1.620000e+02    NaN         ...            \n",
       "25%                 614.000000  5.340988e+06    NaN         ...            \n",
       "50%                 988.000000  2.551750e+07    NaN         ...            \n",
       "75%               11000.000000  6.230944e+07    NaN         ...            \n",
       "max              640000.000000  7.605058e+08    NaN         ...            \n",
       "\n",
       "       num_user_for_reviews language  country  content_rating        budget  \\\n",
       "count           5022.000000     5031     5038            4740  4.551000e+03   \n",
       "unique                  NaN       47       65              18           NaN   \n",
       "top                     NaN  English      USA               R           NaN   \n",
       "freq                    NaN     4704     3807            2118           NaN   \n",
       "mean             272.770808      NaN      NaN             NaN  3.975262e+07   \n",
       "std              377.982886      NaN      NaN             NaN  2.061149e+08   \n",
       "min                1.000000      NaN      NaN             NaN  2.180000e+02   \n",
       "25%               65.000000      NaN      NaN             NaN  6.000000e+06   \n",
       "50%              156.000000      NaN      NaN             NaN  2.000000e+07   \n",
       "75%              326.000000      NaN      NaN             NaN  4.500000e+07   \n",
       "max             5060.000000      NaN      NaN             NaN  1.221550e+10   \n",
       "\n",
       "         title_year actor_2_facebook_likes   imdb_score  aspect_ratio  \\\n",
       "count   4935.000000            5030.000000  5043.000000   4714.000000   \n",
       "unique          NaN                    NaN          NaN           NaN   \n",
       "top             NaN                    NaN          NaN           NaN   \n",
       "freq            NaN                    NaN          NaN           NaN   \n",
       "mean    2002.470517            1651.754473     6.442138      2.220403   \n",
       "std       12.474599            4042.438863     1.125116      1.385113   \n",
       "min     1916.000000               0.000000     1.600000      1.180000   \n",
       "25%     1999.000000             281.000000     5.800000      1.850000   \n",
       "50%     2005.000000             595.000000     6.600000      2.350000   \n",
       "75%     2011.000000             918.000000     7.200000      2.350000   \n",
       "max     2016.000000          137000.000000     9.500000     16.000000   \n",
       "\n",
       "       movie_facebook_likes  \n",
       "count           5043.000000  \n",
       "unique                  NaN  \n",
       "top                     NaN  \n",
       "freq                    NaN  \n",
       "mean            7525.964505  \n",
       "std            19320.445110  \n",
       "min                0.000000  \n",
       "25%                0.000000  \n",
       "50%              166.000000  \n",
       "75%             3000.000000  \n",
       "max           349000.000000  \n",
       "\n",
       "[11 rows x 28 columns]"
      ]
     },
     "execution_count": 5,
     "metadata": {},
     "output_type": "execute_result"
    }
   ],
   "source": [
    "data.describe(include='all')"
   ]
  },
  {
   "cell_type": "code",
   "execution_count": 6,
   "metadata": {},
   "outputs": [
    {
     "data": {
      "text/plain": [
       "color                         object\n",
       "director_name                 object\n",
       "num_critic_for_reviews       float64\n",
       "duration                     float64\n",
       "director_facebook_likes      float64\n",
       "actor_3_facebook_likes       float64\n",
       "actor_2_name                  object\n",
       "actor_1_facebook_likes       float64\n",
       "gross                        float64\n",
       "genres                        object\n",
       "actor_1_name                  object\n",
       "movie_title                   object\n",
       "num_voted_users                int64\n",
       "cast_total_facebook_likes      int64\n",
       "actor_3_name                  object\n",
       "facenumber_in_poster         float64\n",
       "plot_keywords                 object\n",
       "movie_imdb_link               object\n",
       "num_user_for_reviews         float64\n",
       "language                      object\n",
       "country                       object\n",
       "content_rating                object\n",
       "budget                       float64\n",
       "title_year                   float64\n",
       "actor_2_facebook_likes       float64\n",
       "imdb_score                   float64\n",
       "aspect_ratio                 float64\n",
       "movie_facebook_likes           int64\n",
       "dtype: object"
      ]
     },
     "execution_count": 6,
     "metadata": {},
     "output_type": "execute_result"
    }
   ],
   "source": [
    "data.dtypes"
   ]
  },
  {
   "cell_type": "markdown",
   "metadata": {},
   "source": [
    "Observation: \n",
    "- nhiều cột type là float64 c cảm thấy ko cần thiết. Tại toàn số lớn triệu triệu ngàn ngàn ko mà để số lẻ thập phân chi ko biết --> round up bọn nó cho thành interger hết được ko hẻ mấy em\n",
    "\n",
    "Ghi chú:\n",
    "- “Plot Keywords”—words or phrases that describe motifs, themes, character types, or plot details. Each plot keyword is searchable, so if you wanted a list of, say, every movie where a character gets hit with a hammer, you just need to go to the “Hit With A Hammer” IMDb keyword page.\n",
    "- aspect_ratio: tỉ lệ màn hình (thông thường tv là 4:3, sau này là 16:9)"
   ]
  },
  {
   "cell_type": "code",
   "execution_count": 7,
   "metadata": {},
   "outputs": [
    {
     "data": {
      "text/plain": [
       "color                        5024\n",
       "director_name                4939\n",
       "num_critic_for_reviews       4993\n",
       "duration                     5028\n",
       "director_facebook_likes      4939\n",
       "actor_3_facebook_likes       5020\n",
       "actor_2_name                 5030\n",
       "actor_1_facebook_likes       5036\n",
       "gross                        4159\n",
       "genres                       5043\n",
       "actor_1_name                 5036\n",
       "movie_title                  5043\n",
       "num_voted_users              5043\n",
       "cast_total_facebook_likes    5043\n",
       "actor_3_name                 5020\n",
       "facenumber_in_poster         5030\n",
       "plot_keywords                4890\n",
       "movie_imdb_link              5043\n",
       "num_user_for_reviews         5022\n",
       "language                     5031\n",
       "country                      5038\n",
       "content_rating               4740\n",
       "budget                       4551\n",
       "title_year                   4935\n",
       "actor_2_facebook_likes       5030\n",
       "imdb_score                   5043\n",
       "aspect_ratio                 4714\n",
       "movie_facebook_likes         5043\n",
       "dtype: int64"
      ]
     },
     "execution_count": 7,
     "metadata": {},
     "output_type": "execute_result"
    }
   ],
   "source": [
    "data.count()"
   ]
  },
  {
   "cell_type": "markdown",
   "metadata": {},
   "source": [
    "Observation: \n",
    "- nhìn vào 2 cột gross và budget chỉ có 4159 & 4551 row filled/5043 rows ta biết bảng data này sẽ bị drop khá nhiều đây. Nhưng còn tầm 4000 row cho datafram thì cũng rất ổn rồi.\n",
    "- why? vì các nhà sản xuất thường giữ kín thông tin chính xác về chi phí & doanh thu vì nó liên quan tới tỉ lệ chia chác của đoàn làm phim nhoé. "
   ]
  },
  {
   "cell_type": "code",
   "execution_count": 8,
   "metadata": {},
   "outputs": [
    {
     "data": {
      "text/plain": [
       "color                         19\n",
       "director_name                104\n",
       "num_critic_for_reviews        50\n",
       "duration                      15\n",
       "director_facebook_likes      104\n",
       "actor_3_facebook_likes        23\n",
       "actor_2_name                  13\n",
       "actor_1_facebook_likes         7\n",
       "gross                        884\n",
       "genres                         0\n",
       "actor_1_name                   7\n",
       "movie_title                    0\n",
       "num_voted_users                0\n",
       "cast_total_facebook_likes      0\n",
       "actor_3_name                  23\n",
       "facenumber_in_poster          13\n",
       "plot_keywords                153\n",
       "movie_imdb_link                0\n",
       "num_user_for_reviews          21\n",
       "language                      12\n",
       "country                        5\n",
       "content_rating               303\n",
       "budget                       492\n",
       "title_year                   108\n",
       "actor_2_facebook_likes        13\n",
       "imdb_score                     0\n",
       "aspect_ratio                 329\n",
       "movie_facebook_likes           0\n",
       "dtype: int64"
      ]
     },
     "execution_count": 8,
     "metadata": {},
     "output_type": "execute_result"
    }
   ],
   "source": [
    "# How many missing value in each column? \n",
    "data.isnull().sum()"
   ]
  },
  {
   "cell_type": "code",
   "execution_count": 9,
   "metadata": {
    "scrolled": true
   },
   "outputs": [
    {
     "data": {
      "text/plain": [
       "color                           2\n",
       "director_name                2398\n",
       "num_critic_for_reviews        528\n",
       "duration                      191\n",
       "director_facebook_likes       435\n",
       "actor_3_facebook_likes        906\n",
       "actor_2_name                 3032\n",
       "actor_1_facebook_likes        878\n",
       "gross                        4035\n",
       "genres                        914\n",
       "actor_1_name                 2097\n",
       "movie_title                  4917\n",
       "num_voted_users              4826\n",
       "cast_total_facebook_likes    3978\n",
       "actor_3_name                 3521\n",
       "facenumber_in_poster           19\n",
       "plot_keywords                4760\n",
       "movie_imdb_link              4919\n",
       "num_user_for_reviews          954\n",
       "language                       47\n",
       "country                        65\n",
       "content_rating                 18\n",
       "budget                        439\n",
       "title_year                     91\n",
       "actor_2_facebook_likes        917\n",
       "imdb_score                     78\n",
       "aspect_ratio                   22\n",
       "movie_facebook_likes          876\n",
       "dtype: int64"
      ]
     },
     "execution_count": 9,
     "metadata": {},
     "output_type": "execute_result"
    }
   ],
   "source": [
    "data.nunique()"
   ]
  },
  {
   "cell_type": "markdown",
   "metadata": {},
   "source": [
    "Observation: \n",
    "- có hơn 5000 bộ phim, nhưng chỉ có 2400 đạo diễn, 2000 diễn viên chính, 3000 dv nhì: cạnh tranh thật khốc liệt ^0^\n",
    "- đoán: 47 thứ ngôn ngữ nhưng tiếng Anh là chủ đạo, 65 quốc gia nhưng USA là chủ yếu. \n",
    "- mấy cột facebook_likes ko biết là lấy số like trước hay sau khi phim ra mắt. Vì sau khi phim ra mắt chắc chắn các profile đều có tăng likes, nên c nghĩ là các thông số này không solid lắm. \n",
    "- khi quan sát imdb_score cần chú ý tới num_vote_user và num_user_for_review, vì nhiều fim điểm cao bởi vì có vài chục người vote sẽ ko khách quan bằng phim điểm cao có mười mấy ngàn người vote. "
   ]
  },
  {
   "cell_type": "code",
   "execution_count": 10,
   "metadata": {},
   "outputs": [
    {
     "data": {
      "text/plain": [
       "array(['English', nan, 'Japanese', 'French', 'Mandarin', 'Aboriginal',\n",
       "       'Spanish', 'Filipino', 'Hindi', 'Russian', 'Maya', 'Kazakh',\n",
       "       'Telugu', 'Cantonese', 'Icelandic', 'German', 'Aramaic', 'Italian',\n",
       "       'Dutch', 'Dari', 'Hebrew', 'Chinese', 'Mongolian', 'Swedish',\n",
       "       'Korean', 'Thai', 'Polish', 'Bosnian', 'None', 'Hungarian',\n",
       "       'Portuguese', 'Danish', 'Arabic', 'Norwegian', 'Czech', 'Kannada',\n",
       "       'Zulu', 'Panjabi', 'Tamil', 'Dzongkha', 'Vietnamese', 'Indonesian',\n",
       "       'Urdu', 'Romanian', 'Persian', 'Slovenian', 'Greek', 'Swahili'],\n",
       "      dtype=object)"
      ]
     },
     "execution_count": 10,
     "metadata": {},
     "output_type": "execute_result"
    }
   ],
   "source": [
    "#these lines below are just for satisfying my curiosity ^^! Hope it help\n",
    "#1\n",
    "data['language'].unique()"
   ]
  },
  {
   "cell_type": "code",
   "execution_count": 11,
   "metadata": {},
   "outputs": [
    {
     "data": {
      "text/html": [
       "<div>\n",
       "<style scoped>\n",
       "    .dataframe tbody tr th:only-of-type {\n",
       "        vertical-align: middle;\n",
       "    }\n",
       "\n",
       "    .dataframe tbody tr th {\n",
       "        vertical-align: top;\n",
       "    }\n",
       "\n",
       "    .dataframe thead th {\n",
       "        text-align: right;\n",
       "    }\n",
       "</style>\n",
       "<table border=\"1\" class=\"dataframe\">\n",
       "  <thead>\n",
       "    <tr style=\"text-align: right;\">\n",
       "      <th></th>\n",
       "      <th>movie_title</th>\n",
       "      <th>director_name</th>\n",
       "      <th>actor_1_name</th>\n",
       "      <th>actor_2_name</th>\n",
       "      <th>actor_3_name</th>\n",
       "      <th>genres</th>\n",
       "      <th>country</th>\n",
       "      <th>content_rating</th>\n",
       "      <th>title_year</th>\n",
       "      <th>imdb_score</th>\n",
       "      <th>budget</th>\n",
       "      <th>gross</th>\n",
       "    </tr>\n",
       "  </thead>\n",
       "  <tbody>\n",
       "    <tr>\n",
       "      <th>4463</th>\n",
       "      <td>Journey from the Fall</td>\n",
       "      <td>Ham Tran</td>\n",
       "      <td>Long Nguyen</td>\n",
       "      <td>Kieu Chinh</td>\n",
       "      <td>Cat Ly</td>\n",
       "      <td>Drama</td>\n",
       "      <td>USA</td>\n",
       "      <td>R</td>\n",
       "      <td>2006.0</td>\n",
       "      <td>7.4</td>\n",
       "      <td>1592000.0</td>\n",
       "      <td>638951.0</td>\n",
       "    </tr>\n",
       "  </tbody>\n",
       "</table>\n",
       "</div>"
      ],
      "text/plain": [
       "                 movie_title director_name actor_1_name actor_2_name  \\\n",
       "4463  Journey from the Fall       Ham Tran  Long Nguyen   Kieu Chinh   \n",
       "\n",
       "     actor_3_name genres country content_rating  title_year  imdb_score  \\\n",
       "4463       Cat Ly  Drama     USA              R      2006.0         7.4   \n",
       "\n",
       "         budget     gross  \n",
       "4463  1592000.0  638951.0  "
      ]
     },
     "execution_count": 11,
     "metadata": {},
     "output_type": "execute_result"
    }
   ],
   "source": [
    "#OMG Vietnamese language??? Which film then? \n",
    "data.loc[data['language']=='Vietnamese',['movie_title','director_name','actor_1_name','actor_2_name','actor_3_name','genres','country','content_rating','title_year','imdb_score','budget','gross']]"
   ]
  },
  {
   "cell_type": "code",
   "execution_count": 12,
   "metadata": {},
   "outputs": [
    {
     "data": {
      "text/plain": [
       "array([ 0.,  1.,  4.,  3.,  2.,  6.,  7.,  5.,  8., nan, 10., 15.,  9.,\n",
       "       11., 12., 31., 14., 19., 13., 43.])"
      ]
     },
     "execution_count": 12,
     "metadata": {},
     "output_type": "execute_result"
    }
   ],
   "source": [
    "#2\n",
    "data['facenumber_in_poster'].unique()"
   ]
  },
  {
   "cell_type": "code",
   "execution_count": 13,
   "metadata": {},
   "outputs": [
    {
     "data": {
      "text/plain": [
       "array([7.9, 7.1, 6.8, 8.5, 6.6, 6.2, 7.8, 7.5, 6.9, 6.1, 6.7, 7.3, 6.5,\n",
       "       7.2, 8.1, 7. , 7.7, 8.2, 5.9, 6. , 5.7, 6.4, 6.3, 5.6, 8.3, 8. ,\n",
       "       8.4, 5.8, 5.4, 9. , 4.8, 5.2, 7.6, 4.5, 5.5, 8.6, 8.8, 5.1, 7.4,\n",
       "       4.2, 5. , 4.9, 3.7, 5.3, 4.3, 3.8, 4.4, 3.3, 2.2, 8.9, 8.7, 4.6,\n",
       "       2.4, 3.4, 4.1, 4.7, 3. , 3.6, 3.5, 2.7, 1.7, 4. , 2. , 9.3, 2.9,\n",
       "       3.9, 2.8, 2.3, 1.9, 3.1, 9.5, 9.1, 1.6, 2.5, 2.1, 3.2, 9.2, 2.6])"
      ]
     },
     "execution_count": 13,
     "metadata": {},
     "output_type": "execute_result"
    }
   ],
   "source": [
    "#3\n",
    "data['imdb_score'].unique()"
   ]
  },
  {
   "cell_type": "code",
   "execution_count": 14,
   "metadata": {},
   "outputs": [
    {
     "data": {
      "text/plain": [
       "array(['PG-13', nan, 'PG', 'G', 'R', 'TV-14', 'TV-PG', 'TV-MA', 'TV-G',\n",
       "       'Not Rated', 'Unrated', 'Approved', 'TV-Y', 'NC-17', 'X', 'TV-Y7',\n",
       "       'GP', 'Passed', 'M'], dtype=object)"
      ]
     },
     "execution_count": 14,
     "metadata": {},
     "output_type": "execute_result"
    }
   ],
   "source": [
    "#4 \n",
    "data['content_rating'].unique()"
   ]
  },
  {
   "cell_type": "markdown",
   "metadata": {},
   "source": [
    "Giải thích: \n",
    "- G – General Audiences - All ages admitted. Nothing that would offend parents for viewing by children.\n",
    "\n",
    "- PG – Parental Guidance Suggested - Some material may not be suitable for children. Parents urged to give \"parental guidance\". May contain some material parents might not like for their young children.\n",
    "\n",
    "- PG-13 – Parents Strongly Cautioned - Some material may be inappropriate for children under 13. Parents are urged to be cautious. Some material may be inappropriate for pre-teenagers.\n",
    "\n",
    "- R – Restricted - Under 17 requires accompanying parent or adult guardian. Contains some adult material. Parents are urged to learn more about the film before taking their young children with them.\n",
    "\n",
    "- NC-17 – Adults Only - No One 17 and Under Admitted. Clearly adult. Children are not admitted.\n",
    "- TV-Y: appropriate for children of all ages. \n",
    "- TV-Y7:  designed for chil- dren ages 7 and older\n",
    "- TV-14: unsuitable for children under the age of 14 \n",
    "- TV-PG: \n",
    "- NC-17: No Children 17 and Under Admitted\n",
    "- X : explicit films. Films rated X are intended only for viewing by adults, usually defined as people over the age of 18 or 21.\n",
    "- GP:  All Ages Admitted – Parental Guidance Suggested \n",
    "- Unrated: In older movies, unrated means that the picture was made before the MPAA began using the rating system. In new movies, a DVD that says \"unrated\" means scenes have been added to the film that were not seen in the \"rated\" version\n",
    "- Approved, Passed: old rating back in 1930 by MPPC code, mean the movie is approved to release/passed the jury review."
   ]
  },
  {
   "cell_type": "markdown",
   "metadata": {},
   "source": [
    "## 2. Adding metrics"
   ]
  },
  {
   "cell_type": "markdown",
   "metadata": {},
   "source": [
    "Pick a side: pratical investor"
   ]
  },
  {
   "cell_type": "markdown",
   "metadata": {},
   "source": [
    "What is ROI? https://corporatefinanceinstitute.com/resources/knowledge/finance/return-on-investment-roi-formula/ \n",
    "\n",
    "ROI Formula: <chèn ảnh vào cũng đc nhé, cho nó phong phú bài làm>\n"
   ]
  },
  {
   "cell_type": "code",
   "execution_count": 15,
   "metadata": {},
   "outputs": [
    {
     "data": {
      "text/html": [
       "<div>\n",
       "<style scoped>\n",
       "    .dataframe tbody tr th:only-of-type {\n",
       "        vertical-align: middle;\n",
       "    }\n",
       "\n",
       "    .dataframe tbody tr th {\n",
       "        vertical-align: top;\n",
       "    }\n",
       "\n",
       "    .dataframe thead th {\n",
       "        text-align: right;\n",
       "    }\n",
       "</style>\n",
       "<table border=\"1\" class=\"dataframe\">\n",
       "  <thead>\n",
       "    <tr style=\"text-align: right;\">\n",
       "      <th></th>\n",
       "      <th>color</th>\n",
       "      <th>director_name</th>\n",
       "      <th>num_critic_for_reviews</th>\n",
       "      <th>duration</th>\n",
       "      <th>director_facebook_likes</th>\n",
       "      <th>actor_3_facebook_likes</th>\n",
       "      <th>actor_2_name</th>\n",
       "      <th>actor_1_facebook_likes</th>\n",
       "      <th>gross</th>\n",
       "      <th>genres</th>\n",
       "      <th>...</th>\n",
       "      <th>language</th>\n",
       "      <th>country</th>\n",
       "      <th>content_rating</th>\n",
       "      <th>budget</th>\n",
       "      <th>title_year</th>\n",
       "      <th>actor_2_facebook_likes</th>\n",
       "      <th>imdb_score</th>\n",
       "      <th>aspect_ratio</th>\n",
       "      <th>movie_facebook_likes</th>\n",
       "      <th>ROI (%)</th>\n",
       "    </tr>\n",
       "  </thead>\n",
       "  <tbody>\n",
       "    <tr>\n",
       "      <th>4793</th>\n",
       "      <td>Color</td>\n",
       "      <td>Oren Peli</td>\n",
       "      <td>409.0</td>\n",
       "      <td>84.0</td>\n",
       "      <td>110.0</td>\n",
       "      <td>21.0</td>\n",
       "      <td>Ashley Palmer</td>\n",
       "      <td>189.0</td>\n",
       "      <td>107917283.0</td>\n",
       "      <td>Horror</td>\n",
       "      <td>...</td>\n",
       "      <td>English</td>\n",
       "      <td>USA</td>\n",
       "      <td>R</td>\n",
       "      <td>15000.0</td>\n",
       "      <td>2007.0</td>\n",
       "      <td>109.0</td>\n",
       "      <td>6.3</td>\n",
       "      <td>1.85</td>\n",
       "      <td>12000</td>\n",
       "      <td>719349.0</td>\n",
       "    </tr>\n",
       "    <tr>\n",
       "      <th>4799</th>\n",
       "      <td>Color</td>\n",
       "      <td>Jonathan Caouette</td>\n",
       "      <td>72.0</td>\n",
       "      <td>88.0</td>\n",
       "      <td>20.0</td>\n",
       "      <td>0.0</td>\n",
       "      <td>Jonathan Caouette</td>\n",
       "      <td>58.0</td>\n",
       "      <td>592014.0</td>\n",
       "      <td>Biography|Documentary</td>\n",
       "      <td>...</td>\n",
       "      <td>English</td>\n",
       "      <td>USA</td>\n",
       "      <td>Unrated</td>\n",
       "      <td>218.0</td>\n",
       "      <td>2003.0</td>\n",
       "      <td>20.0</td>\n",
       "      <td>7.2</td>\n",
       "      <td>1.37</td>\n",
       "      <td>754</td>\n",
       "      <td>271466.0</td>\n",
       "    </tr>\n",
       "    <tr>\n",
       "      <th>4707</th>\n",
       "      <td>Black and White</td>\n",
       "      <td>Daniel Myrick</td>\n",
       "      <td>360.0</td>\n",
       "      <td>81.0</td>\n",
       "      <td>19.0</td>\n",
       "      <td>39.0</td>\n",
       "      <td>Joshua Leonard</td>\n",
       "      <td>170.0</td>\n",
       "      <td>140530114.0</td>\n",
       "      <td>Horror</td>\n",
       "      <td>...</td>\n",
       "      <td>English</td>\n",
       "      <td>USA</td>\n",
       "      <td>R</td>\n",
       "      <td>60000.0</td>\n",
       "      <td>1999.0</td>\n",
       "      <td>170.0</td>\n",
       "      <td>6.4</td>\n",
       "      <td>1.33</td>\n",
       "      <td>0</td>\n",
       "      <td>234117.0</td>\n",
       "    </tr>\n",
       "  </tbody>\n",
       "</table>\n",
       "<p>3 rows × 29 columns</p>\n",
       "</div>"
      ],
      "text/plain": [
       "                 color      director_name  num_critic_for_reviews  duration  \\\n",
       "4793             Color          Oren Peli                   409.0      84.0   \n",
       "4799             Color  Jonathan Caouette                    72.0      88.0   \n",
       "4707   Black and White      Daniel Myrick                   360.0      81.0   \n",
       "\n",
       "      director_facebook_likes  actor_3_facebook_likes       actor_2_name  \\\n",
       "4793                    110.0                    21.0      Ashley Palmer   \n",
       "4799                     20.0                     0.0  Jonathan Caouette   \n",
       "4707                     19.0                    39.0     Joshua Leonard   \n",
       "\n",
       "      actor_1_facebook_likes        gross                 genres    ...     \\\n",
       "4793                   189.0  107917283.0                 Horror    ...      \n",
       "4799                    58.0     592014.0  Biography|Documentary    ...      \n",
       "4707                   170.0  140530114.0                 Horror    ...      \n",
       "\n",
       "     language country  content_rating   budget title_year  \\\n",
       "4793  English     USA               R  15000.0     2007.0   \n",
       "4799  English     USA         Unrated    218.0     2003.0   \n",
       "4707  English     USA               R  60000.0     1999.0   \n",
       "\n",
       "      actor_2_facebook_likes imdb_score aspect_ratio  movie_facebook_likes  \\\n",
       "4793                   109.0        6.3         1.85                 12000   \n",
       "4799                    20.0        7.2         1.37                   754   \n",
       "4707                   170.0        6.4         1.33                     0   \n",
       "\n",
       "       ROI (%)  \n",
       "4793  719349.0  \n",
       "4799  271466.0  \n",
       "4707  234117.0  \n",
       "\n",
       "[3 rows x 29 columns]"
      ]
     },
     "execution_count": 15,
     "metadata": {},
     "output_type": "execute_result"
    }
   ],
   "source": [
    "#Add ROI column to dataframe, calculate ROI of each movie\n",
    "data['ROI (%)']=round((data['gross']-data['budget'])/data['budget']*100)\n",
    "data2=data.sort_values(by='ROI (%)', ascending=False)\n",
    "data2=data2.round(2)\n",
    "data2.head(3)"
   ]
  },
  {
   "cell_type": "code",
   "execution_count": 16,
   "metadata": {},
   "outputs": [],
   "source": [
    "#adding comma to ROI values - error vi co cot N/a\n",
    "#top_ROI['ROI (%)'] = top_ROI['ROI (%)'].astype(int).apply(lambda x: \"{:,}\".format(x)) "
   ]
  },
  {
   "cell_type": "code",
   "execution_count": 17,
   "metadata": {},
   "outputs": [],
   "source": [
    "#scatter plot xem phan bo cua ROI & budget ntn \n",
    "#plt.figure(figsize=(20,15))\n",
    "#sns.scatterplot(x=\"ROI (%)\", y='movie_title',data=top_ROI, color='g',legend = False)\n"
   ]
  },
  {
   "cell_type": "markdown",
   "metadata": {},
   "source": [
    "## 3. Processing data"
   ]
  },
  {
   "cell_type": "markdown",
   "metadata": {},
   "source": [
    "3.1 Cleaning data"
   ]
  },
  {
   "cell_type": "markdown",
   "metadata": {},
   "source": [
    "- Remove all rows that has n/a ROI. "
   ]
  },
  {
   "cell_type": "code",
   "execution_count": 18,
   "metadata": {},
   "outputs": [
    {
     "data": {
      "text/html": [
       "<div>\n",
       "<style scoped>\n",
       "    .dataframe tbody tr th:only-of-type {\n",
       "        vertical-align: middle;\n",
       "    }\n",
       "\n",
       "    .dataframe tbody tr th {\n",
       "        vertical-align: top;\n",
       "    }\n",
       "\n",
       "    .dataframe thead th {\n",
       "        text-align: right;\n",
       "    }\n",
       "</style>\n",
       "<table border=\"1\" class=\"dataframe\">\n",
       "  <thead>\n",
       "    <tr style=\"text-align: right;\">\n",
       "      <th></th>\n",
       "      <th>director_name</th>\n",
       "      <th>num_critic_for_reviews</th>\n",
       "      <th>duration</th>\n",
       "      <th>actor_2_name</th>\n",
       "      <th>gross</th>\n",
       "      <th>genres</th>\n",
       "      <th>actor_1_name</th>\n",
       "      <th>movie_title</th>\n",
       "      <th>num_voted_users</th>\n",
       "      <th>actor_3_name</th>\n",
       "      <th>num_user_for_reviews</th>\n",
       "      <th>language</th>\n",
       "      <th>country</th>\n",
       "      <th>content_rating</th>\n",
       "      <th>budget</th>\n",
       "      <th>title_year</th>\n",
       "      <th>imdb_score</th>\n",
       "      <th>ROI (%)</th>\n",
       "    </tr>\n",
       "  </thead>\n",
       "  <tbody>\n",
       "    <tr>\n",
       "      <th>4793</th>\n",
       "      <td>Oren Peli</td>\n",
       "      <td>409.0</td>\n",
       "      <td>84.0</td>\n",
       "      <td>Ashley Palmer</td>\n",
       "      <td>107917283.0</td>\n",
       "      <td>Horror</td>\n",
       "      <td>Micah Sloat</td>\n",
       "      <td>Paranormal Activity</td>\n",
       "      <td>184824</td>\n",
       "      <td>Amber Armstrong</td>\n",
       "      <td>1189.0</td>\n",
       "      <td>English</td>\n",
       "      <td>USA</td>\n",
       "      <td>R</td>\n",
       "      <td>15000.0</td>\n",
       "      <td>2007.0</td>\n",
       "      <td>6.3</td>\n",
       "      <td>719349.0</td>\n",
       "    </tr>\n",
       "    <tr>\n",
       "      <th>4799</th>\n",
       "      <td>Jonathan Caouette</td>\n",
       "      <td>72.0</td>\n",
       "      <td>88.0</td>\n",
       "      <td>Jonathan Caouette</td>\n",
       "      <td>592014.0</td>\n",
       "      <td>Biography|Documentary</td>\n",
       "      <td>Greg Ayres</td>\n",
       "      <td>Tarnation</td>\n",
       "      <td>5709</td>\n",
       "      <td>Renee Leblanc</td>\n",
       "      <td>114.0</td>\n",
       "      <td>English</td>\n",
       "      <td>USA</td>\n",
       "      <td>Unrated</td>\n",
       "      <td>218.0</td>\n",
       "      <td>2003.0</td>\n",
       "      <td>7.2</td>\n",
       "      <td>271466.0</td>\n",
       "    </tr>\n",
       "    <tr>\n",
       "      <th>4707</th>\n",
       "      <td>Daniel Myrick</td>\n",
       "      <td>360.0</td>\n",
       "      <td>81.0</td>\n",
       "      <td>Joshua Leonard</td>\n",
       "      <td>140530114.0</td>\n",
       "      <td>Horror</td>\n",
       "      <td>Heather Donahue</td>\n",
       "      <td>The Blair Witch Project</td>\n",
       "      <td>186786</td>\n",
       "      <td>Michael C. Williams</td>\n",
       "      <td>3400.0</td>\n",
       "      <td>English</td>\n",
       "      <td>USA</td>\n",
       "      <td>R</td>\n",
       "      <td>60000.0</td>\n",
       "      <td>1999.0</td>\n",
       "      <td>6.4</td>\n",
       "      <td>234117.0</td>\n",
       "    </tr>\n",
       "    <tr>\n",
       "      <th>4984</th>\n",
       "      <td>Edward Burns</td>\n",
       "      <td>36.0</td>\n",
       "      <td>98.0</td>\n",
       "      <td>Michael McGlone</td>\n",
       "      <td>10246600.0</td>\n",
       "      <td>Comedy|Drama|Romance</td>\n",
       "      <td>Shari Albert</td>\n",
       "      <td>The Brothers McMullen</td>\n",
       "      <td>6375</td>\n",
       "      <td>Maxine Bahns</td>\n",
       "      <td>36.0</td>\n",
       "      <td>English</td>\n",
       "      <td>USA</td>\n",
       "      <td>R</td>\n",
       "      <td>25000.0</td>\n",
       "      <td>1995.0</td>\n",
       "      <td>6.6</td>\n",
       "      <td>40886.0</td>\n",
       "    </tr>\n",
       "    <tr>\n",
       "      <th>4936</th>\n",
       "      <td>Tobe Hooper</td>\n",
       "      <td>277.0</td>\n",
       "      <td>88.0</td>\n",
       "      <td>Edwin Neal</td>\n",
       "      <td>30859000.0</td>\n",
       "      <td>Horror|Thriller</td>\n",
       "      <td>Gunnar Hansen</td>\n",
       "      <td>The Texas Chain Saw Massacre</td>\n",
       "      <td>96411</td>\n",
       "      <td>Marilyn Burns</td>\n",
       "      <td>826.0</td>\n",
       "      <td>English</td>\n",
       "      <td>USA</td>\n",
       "      <td>R</td>\n",
       "      <td>83532.0</td>\n",
       "      <td>1974.0</td>\n",
       "      <td>7.5</td>\n",
       "      <td>36843.0</td>\n",
       "    </tr>\n",
       "    <tr>\n",
       "      <th>3278</th>\n",
       "      <td>Tobe Hooper</td>\n",
       "      <td>277.0</td>\n",
       "      <td>88.0</td>\n",
       "      <td>Edwin Neal</td>\n",
       "      <td>30859000.0</td>\n",
       "      <td>Horror|Thriller</td>\n",
       "      <td>Gunnar Hansen</td>\n",
       "      <td>The Texas Chain Saw Massacre</td>\n",
       "      <td>96410</td>\n",
       "      <td>Marilyn Burns</td>\n",
       "      <td>826.0</td>\n",
       "      <td>English</td>\n",
       "      <td>USA</td>\n",
       "      <td>R</td>\n",
       "      <td>83532.0</td>\n",
       "      <td>1974.0</td>\n",
       "      <td>7.5</td>\n",
       "      <td>36843.0</td>\n",
       "    </tr>\n",
       "    <tr>\n",
       "      <th>5035</th>\n",
       "      <td>Robert Rodriguez</td>\n",
       "      <td>56.0</td>\n",
       "      <td>81.0</td>\n",
       "      <td>Peter Marquardt</td>\n",
       "      <td>2040920.0</td>\n",
       "      <td>Action|Crime|Drama|Romance|Thriller</td>\n",
       "      <td>Carlos Gallardo</td>\n",
       "      <td>El Mariachi</td>\n",
       "      <td>52055</td>\n",
       "      <td>Consuelo Gómez</td>\n",
       "      <td>130.0</td>\n",
       "      <td>Spanish</td>\n",
       "      <td>USA</td>\n",
       "      <td>R</td>\n",
       "      <td>7000.0</td>\n",
       "      <td>1992.0</td>\n",
       "      <td>6.9</td>\n",
       "      <td>29056.0</td>\n",
       "    </tr>\n",
       "    <tr>\n",
       "      <th>4956</th>\n",
       "      <td>Travis Cluff</td>\n",
       "      <td>159.0</td>\n",
       "      <td>81.0</td>\n",
       "      <td>Cassidy Gifford</td>\n",
       "      <td>22757819.0</td>\n",
       "      <td>Horror|Thriller</td>\n",
       "      <td>Pfeifer Brown</td>\n",
       "      <td>The Gallows</td>\n",
       "      <td>13521</td>\n",
       "      <td>Reese Mishler</td>\n",
       "      <td>150.0</td>\n",
       "      <td>English</td>\n",
       "      <td>USA</td>\n",
       "      <td>R</td>\n",
       "      <td>100000.0</td>\n",
       "      <td>2015.0</td>\n",
       "      <td>4.2</td>\n",
       "      <td>22658.0</td>\n",
       "    </tr>\n",
       "    <tr>\n",
       "      <th>4977</th>\n",
       "      <td>Morgan Spurlock</td>\n",
       "      <td>193.0</td>\n",
       "      <td>100.0</td>\n",
       "      <td>Amanda Kearsan</td>\n",
       "      <td>11529368.0</td>\n",
       "      <td>Comedy|Documentary|Drama</td>\n",
       "      <td>Chemeeka Walker</td>\n",
       "      <td>Super Size Me</td>\n",
       "      <td>85028</td>\n",
       "      <td>Amelia Giancarlo</td>\n",
       "      <td>404.0</td>\n",
       "      <td>English</td>\n",
       "      <td>USA</td>\n",
       "      <td>PG</td>\n",
       "      <td>65000.0</td>\n",
       "      <td>2004.0</td>\n",
       "      <td>7.3</td>\n",
       "      <td>17637.0</td>\n",
       "    </tr>\n",
       "    <tr>\n",
       "      <th>4821</th>\n",
       "      <td>John Carpenter</td>\n",
       "      <td>318.0</td>\n",
       "      <td>101.0</td>\n",
       "      <td>Donald Pleasence</td>\n",
       "      <td>47000000.0</td>\n",
       "      <td>Horror|Thriller</td>\n",
       "      <td>Jamie Lee Curtis</td>\n",
       "      <td>Halloween</td>\n",
       "      <td>157863</td>\n",
       "      <td>P.J. Soles</td>\n",
       "      <td>1191.0</td>\n",
       "      <td>English</td>\n",
       "      <td>USA</td>\n",
       "      <td>R</td>\n",
       "      <td>300000.0</td>\n",
       "      <td>1978.0</td>\n",
       "      <td>7.9</td>\n",
       "      <td>15567.0</td>\n",
       "    </tr>\n",
       "  </tbody>\n",
       "</table>\n",
       "</div>"
      ],
      "text/plain": [
       "          director_name  num_critic_for_reviews  duration       actor_2_name  \\\n",
       "4793          Oren Peli                   409.0      84.0      Ashley Palmer   \n",
       "4799  Jonathan Caouette                    72.0      88.0  Jonathan Caouette   \n",
       "4707      Daniel Myrick                   360.0      81.0     Joshua Leonard   \n",
       "4984       Edward Burns                    36.0      98.0    Michael McGlone   \n",
       "4936        Tobe Hooper                   277.0      88.0         Edwin Neal   \n",
       "3278        Tobe Hooper                   277.0      88.0         Edwin Neal   \n",
       "5035   Robert Rodriguez                    56.0      81.0    Peter Marquardt   \n",
       "4956       Travis Cluff                   159.0      81.0    Cassidy Gifford   \n",
       "4977    Morgan Spurlock                   193.0     100.0     Amanda Kearsan   \n",
       "4821     John Carpenter                   318.0     101.0   Donald Pleasence   \n",
       "\n",
       "            gross                               genres      actor_1_name  \\\n",
       "4793  107917283.0                               Horror       Micah Sloat   \n",
       "4799     592014.0                Biography|Documentary        Greg Ayres   \n",
       "4707  140530114.0                               Horror   Heather Donahue   \n",
       "4984   10246600.0                 Comedy|Drama|Romance      Shari Albert   \n",
       "4936   30859000.0                      Horror|Thriller     Gunnar Hansen   \n",
       "3278   30859000.0                      Horror|Thriller     Gunnar Hansen   \n",
       "5035    2040920.0  Action|Crime|Drama|Romance|Thriller   Carlos Gallardo   \n",
       "4956   22757819.0                      Horror|Thriller     Pfeifer Brown   \n",
       "4977   11529368.0             Comedy|Documentary|Drama   Chemeeka Walker   \n",
       "4821   47000000.0                      Horror|Thriller  Jamie Lee Curtis   \n",
       "\n",
       "                        movie_title  num_voted_users         actor_3_name  \\\n",
       "4793           Paranormal Activity            184824      Amber Armstrong   \n",
       "4799                     Tarnation              5709        Renee Leblanc   \n",
       "4707       The Blair Witch Project            186786  Michael C. Williams   \n",
       "4984         The Brothers McMullen              6375         Maxine Bahns   \n",
       "4936  The Texas Chain Saw Massacre             96411        Marilyn Burns   \n",
       "3278  The Texas Chain Saw Massacre             96410        Marilyn Burns   \n",
       "5035                   El Mariachi             52055       Consuelo Gómez   \n",
       "4956                   The Gallows             13521        Reese Mishler   \n",
       "4977                 Super Size Me             85028     Amelia Giancarlo   \n",
       "4821                     Halloween            157863           P.J. Soles   \n",
       "\n",
       "      num_user_for_reviews language country content_rating    budget  \\\n",
       "4793                1189.0  English     USA              R   15000.0   \n",
       "4799                 114.0  English     USA        Unrated     218.0   \n",
       "4707                3400.0  English     USA              R   60000.0   \n",
       "4984                  36.0  English     USA              R   25000.0   \n",
       "4936                 826.0  English     USA              R   83532.0   \n",
       "3278                 826.0  English     USA              R   83532.0   \n",
       "5035                 130.0  Spanish     USA              R    7000.0   \n",
       "4956                 150.0  English     USA              R  100000.0   \n",
       "4977                 404.0  English     USA             PG   65000.0   \n",
       "4821                1191.0  English     USA              R  300000.0   \n",
       "\n",
       "      title_year  imdb_score   ROI (%)  \n",
       "4793      2007.0         6.3  719349.0  \n",
       "4799      2003.0         7.2  271466.0  \n",
       "4707      1999.0         6.4  234117.0  \n",
       "4984      1995.0         6.6   40886.0  \n",
       "4936      1974.0         7.5   36843.0  \n",
       "3278      1974.0         7.5   36843.0  \n",
       "5035      1992.0         6.9   29056.0  \n",
       "4956      2015.0         4.2   22658.0  \n",
       "4977      2004.0         7.3   17637.0  \n",
       "4821      1978.0         7.9   15567.0  "
      ]
     },
     "execution_count": 18,
     "metadata": {},
     "output_type": "execute_result"
    }
   ],
   "source": [
    "drop_columns=['color','facenumber_in_poster','plot_keywords','movie_imdb_link','aspect_ratio','movie_facebook_likes','actor_2_facebook_likes','cast_total_facebook_likes','actor_1_facebook_likes','actor_3_facebook_likes','director_facebook_likes']\n",
    "data2.drop(drop_columns,inplace=True, axis=1)\n",
    "data2.head(10)"
   ]
  },
  {
   "cell_type": "code",
   "execution_count": 29,
   "metadata": {},
   "outputs": [
    {
     "data": {
      "text/plain": [
       "<matplotlib.axes._subplots.AxesSubplot at 0x1a23d2c748>"
      ]
     },
     "execution_count": 29,
     "metadata": {},
     "output_type": "execute_result"
    },
    {
     "data": {
      "image/png": "[encoded data removed]",
      "text/plain": [
       "<Figure size 864x720 with 1 Axes>"
      ]
     },
     "metadata": {
      "needs_background": "light"
     },
     "output_type": "display_data"
    }
   ],
   "source": [
    "# Visualize missing data\n",
    "plt.figure(figsize=(12,10))\n",
    "sns.heatmap(data2.isnull(), cbar=False)"
   ]
  },
  {
   "cell_type": "code",
   "execution_count": 19,
   "metadata": {},
   "outputs": [
    {
     "data": {
      "text/plain": [
       "array([ 7.19349e+05,  2.71466e+05,  2.34117e+05,  4.08860e+04,\n",
       "        3.68430e+04,  2.90560e+04,  2.26580e+04,  1.76370e+04,\n",
       "        1.55670e+04,  1.47010e+04,  1.21120e+04,  1.13260e+04,\n",
       "        1.10350e+04,  1.00750e+04,  9.14600e+03,  7.81100e+03,\n",
       "        7.64700e+03,  6.63800e+03,  6.59000e+03,  6.00000e+03,\n",
       "        5.96800e+03,  5.26200e+03,  5.23700e+03,  5.22500e+03,\n",
       "        5.14300e+03,  5.12900e+03,  4.89500e+03,  4.72900e+03,\n",
       "        4.70300e+03,  4.62000e+03,  4.49600e+03,  4.09100e+03,\n",
       "        4.09000e+03,  4.04200e+03,  3.97900e+03,  3.86600e+03,\n",
       "        3.49900e+03,  3.30000e+03,  3.25100e+03,  3.15000e+03,\n",
       "        3.14200e+03,  3.05400e+03,  2.98200e+03,  2.93600e+03,\n",
       "        2.92300e+03,  2.92200e+03,  2.90000e+03,  2.80200e+03,\n",
       "        2.72500e+03,  2.65000e+03,  2.62000e+03,  2.53800e+03,\n",
       "        2.45700e+03,  2.44500e+03,  2.35100e+03,  2.28300e+03,\n",
       "        2.28100e+03,  2.27200e+03,  2.19900e+03,  2.17700e+03,\n",
       "        2.15300e+03,  2.14700e+03,  2.11700e+03,  2.07600e+03,\n",
       "        2.04700e+03,  2.03800e+03,  2.01300e+03,  1.98000e+03,\n",
       "        1.96200e+03,  1.89000e+03,  1.88500e+03,  1.88400e+03,\n",
       "        1.82100e+03,  1.81300e+03,  1.71100e+03,  1.70500e+03,\n",
       "        1.70400e+03,  1.69900e+03,  1.68900e+03,  1.65000e+03,\n",
       "        1.62600e+03,  1.60500e+03,  1.60300e+03,  1.57700e+03,\n",
       "        1.57500e+03,  1.57100e+03,  1.52400e+03,  1.51200e+03,\n",
       "        1.50200e+03,  1.48800e+03,  1.44100e+03,  1.42800e+03,\n",
       "        1.42500e+03,  1.42000e+03,  1.37200e+03,  1.36100e+03,\n",
       "        1.35600e+03,  1.32100e+03,  1.32000e+03,  1.28300e+03,\n",
       "        1.27000e+03,  1.26400e+03,  1.25500e+03,  1.24900e+03,\n",
       "        1.24700e+03,  1.23400e+03,  1.21600e+03,  1.21000e+03,\n",
       "        1.20600e+03,  1.20100e+03,  1.19600e+03,  1.18900e+03,\n",
       "        1.18500e+03,  1.18300e+03,  1.17400e+03,  1.17200e+03,\n",
       "        1.17000e+03,  1.15900e+03,  1.14000e+03,  1.11400e+03,\n",
       "        1.07900e+03,  1.07100e+03,  1.05400e+03,  1.04800e+03,\n",
       "        1.04300e+03,  1.03500e+03,  1.02600e+03,  1.01900e+03,\n",
       "        1.01400e+03,  1.00800e+03,  1.00200e+03,  9.78000e+02,\n",
       "        9.73000e+02,  9.71000e+02,  9.69000e+02,  9.55000e+02,\n",
       "        9.54000e+02,  9.41000e+02,  9.16000e+02,  9.08000e+02,\n",
       "        9.04000e+02,  9.01000e+02,  9.00000e+02,  8.95000e+02,\n",
       "        8.89000e+02,  8.85000e+02,  8.81000e+02,  8.80000e+02,\n",
       "        8.76000e+02,  8.68000e+02,  8.64000e+02,  8.58000e+02,\n",
       "        8.53000e+02,  8.51000e+02,  8.42000e+02,  8.40000e+02,\n",
       "        8.30000e+02,  8.25000e+02,  8.16000e+02,  8.13000e+02,\n",
       "        8.07000e+02,  8.05000e+02,  8.01000e+02,  8.00000e+02,\n",
       "        7.95000e+02,  7.89000e+02,  7.88000e+02,  7.85000e+02,\n",
       "        7.83000e+02,  7.77000e+02,  7.75000e+02,  7.72000e+02,\n",
       "        7.67000e+02,  7.54000e+02,  7.53000e+02,  7.47000e+02,\n",
       "        7.39000e+02,  7.37000e+02,  7.34000e+02,  7.26000e+02,\n",
       "        7.23000e+02,  7.21000e+02,  7.16000e+02,  7.13000e+02,\n",
       "        7.07000e+02,  7.05000e+02,  7.02000e+02,  6.97000e+02,\n",
       "        6.95000e+02,  6.93000e+02,  6.92000e+02,  6.91000e+02,\n",
       "        6.88000e+02,  6.87000e+02,  6.82000e+02,  6.81000e+02,\n",
       "        6.76000e+02,  6.67000e+02,  6.66000e+02,  6.65000e+02,\n",
       "        6.63000e+02,  6.62000e+02,  6.49000e+02,  6.46000e+02,\n",
       "        6.43000e+02,  6.41000e+02,  6.36000e+02,  6.34000e+02,\n",
       "        6.30000e+02,  6.28000e+02,  6.20000e+02,  6.18000e+02,\n",
       "        6.17000e+02,  6.16000e+02,  6.14000e+02,  6.10000e+02,\n",
       "        6.07000e+02,  6.05000e+02,  6.02000e+02,  6.00000e+02,\n",
       "        5.99000e+02,  5.98000e+02,  5.93000e+02,  5.92000e+02,\n",
       "        5.91000e+02,  5.88000e+02,  5.87000e+02,  5.85000e+02,\n",
       "        5.84000e+02,  5.82000e+02,  5.81000e+02,  5.80000e+02,\n",
       "        5.79000e+02,  5.66000e+02,  5.64000e+02,  5.63000e+02,\n",
       "        5.61000e+02,  5.58000e+02,  5.54000e+02,  5.51000e+02,\n",
       "        5.49000e+02,  5.42000e+02,  5.39000e+02,  5.37000e+02,\n",
       "        5.34000e+02,  5.33000e+02,  5.29000e+02,  5.28000e+02,\n",
       "        5.26000e+02,  5.22000e+02,  5.08000e+02,  5.07000e+02,\n",
       "        5.03000e+02,  5.02000e+02,  5.00000e+02,  4.99000e+02,\n",
       "        4.96000e+02,  4.95000e+02,  4.94000e+02,  4.93000e+02,\n",
       "        4.91000e+02,  4.86000e+02,  4.85000e+02,  4.83000e+02,\n",
       "        4.80000e+02,  4.77000e+02,  4.76000e+02,  4.75000e+02,\n",
       "        4.74000e+02,  4.72000e+02,  4.67000e+02,  4.66000e+02,\n",
       "        4.65000e+02,  4.64000e+02,  4.63000e+02,  4.62000e+02,\n",
       "        4.59000e+02,  4.56000e+02,  4.54000e+02,  4.51000e+02,\n",
       "        4.49000e+02,  4.46000e+02,  4.44000e+02,  4.38000e+02,\n",
       "        4.37000e+02,  4.35000e+02,  4.34000e+02,  4.31000e+02,\n",
       "        4.28000e+02,  4.26000e+02,  4.25000e+02,  4.24000e+02,\n",
       "        4.23000e+02,  4.22000e+02,  4.20000e+02,  4.17000e+02,\n",
       "        4.15000e+02,  4.14000e+02,  4.12000e+02,  4.09000e+02,\n",
       "        4.08000e+02,  4.06000e+02,  4.02000e+02,  4.01000e+02,\n",
       "        4.00000e+02,  3.96000e+02,  3.95000e+02,  3.94000e+02,\n",
       "        3.93000e+02,  3.91000e+02,  3.89000e+02,  3.88000e+02,\n",
       "        3.86000e+02,  3.85000e+02,  3.84000e+02,  3.83000e+02,\n",
       "        3.81000e+02,  3.79000e+02,  3.78000e+02,  3.75000e+02,\n",
       "        3.73000e+02,  3.72000e+02,  3.71000e+02,  3.64000e+02,\n",
       "        3.62000e+02,  3.61000e+02,  3.59000e+02,  3.58000e+02,\n",
       "        3.56000e+02,  3.54000e+02,  3.53000e+02,  3.50000e+02,\n",
       "        3.49000e+02,  3.46000e+02,  3.42000e+02,  3.41000e+02,\n",
       "        3.40000e+02,  3.39000e+02,  3.38000e+02,  3.37000e+02,\n",
       "        3.35000e+02,  3.34000e+02,  3.33000e+02,  3.32000e+02,\n",
       "        3.31000e+02,  3.30000e+02,  3.28000e+02,  3.27000e+02,\n",
       "        3.25000e+02,  3.24000e+02,  3.23000e+02,  3.22000e+02,\n",
       "        3.21000e+02,  3.20000e+02,  3.19000e+02,  3.18000e+02,\n",
       "        3.17000e+02,  3.15000e+02,  3.14000e+02,  3.13000e+02,\n",
       "        3.12000e+02,  3.11000e+02,  3.10000e+02,  3.09000e+02,\n",
       "        3.08000e+02,  3.07000e+02,  3.06000e+02,  3.05000e+02,\n",
       "        3.03000e+02,  3.02000e+02,  3.01000e+02,  3.00000e+02,\n",
       "        2.99000e+02,  2.98000e+02,  2.97000e+02,  2.92000e+02,\n",
       "        2.91000e+02,  2.90000e+02,  2.89000e+02,  2.88000e+02,\n",
       "        2.86000e+02,  2.85000e+02,  2.84000e+02,  2.83000e+02,\n",
       "        2.82000e+02,  2.81000e+02,  2.80000e+02,  2.79000e+02,\n",
       "        2.78000e+02,  2.77000e+02,  2.75000e+02,  2.74000e+02,\n",
       "        2.73000e+02,  2.71000e+02,  2.69000e+02,  2.68000e+02,\n",
       "        2.66000e+02,  2.64000e+02,  2.63000e+02,  2.62000e+02,\n",
       "        2.61000e+02,  2.59000e+02,  2.58000e+02,  2.56000e+02,\n",
       "        2.55000e+02,  2.54000e+02,  2.53000e+02,  2.52000e+02,\n",
       "        2.51000e+02,  2.50000e+02,  2.49000e+02,  2.48000e+02,\n",
       "        2.47000e+02,  2.46000e+02,  2.45000e+02,  2.44000e+02,\n",
       "        2.43000e+02,  2.42000e+02,  2.41000e+02,  2.39000e+02,\n",
       "        2.38000e+02,  2.37000e+02,  2.36000e+02,  2.35000e+02,\n",
       "        2.34000e+02,  2.33000e+02,  2.31000e+02,  2.30000e+02,\n",
       "        2.29000e+02,  2.28000e+02,  2.27000e+02,  2.26000e+02,\n",
       "        2.25000e+02,  2.24000e+02,  2.23000e+02,  2.22000e+02,\n",
       "        2.21000e+02,  2.20000e+02,  2.19000e+02,  2.18000e+02,\n",
       "        2.17000e+02,  2.16000e+02,  2.15000e+02,  2.14000e+02,\n",
       "        2.13000e+02,  2.12000e+02,  2.11000e+02,  2.10000e+02,\n",
       "        2.09000e+02,  2.08000e+02,  2.07000e+02,  2.06000e+02,\n",
       "        2.05000e+02,  2.03000e+02,  2.02000e+02,  2.01000e+02,\n",
       "        2.00000e+02,  1.99000e+02,  1.98000e+02,  1.97000e+02,\n",
       "        1.96000e+02,  1.95000e+02,  1.94000e+02,  1.93000e+02,\n",
       "        1.92000e+02,  1.91000e+02,  1.90000e+02,  1.89000e+02,\n",
       "        1.88000e+02,  1.87000e+02,  1.86000e+02,  1.85000e+02,\n",
       "        1.84000e+02,  1.83000e+02,  1.82000e+02,  1.81000e+02,\n",
       "        1.80000e+02,  1.79000e+02,  1.78000e+02,  1.77000e+02,\n",
       "        1.76000e+02,  1.75000e+02,  1.74000e+02,  1.73000e+02,\n",
       "        1.72000e+02,  1.71000e+02,  1.70000e+02,  1.69000e+02,\n",
       "        1.67000e+02,  1.66000e+02,  1.65000e+02,  1.64000e+02,\n",
       "        1.63000e+02,  1.62000e+02,  1.61000e+02,  1.60000e+02,\n",
       "        1.59000e+02,  1.58000e+02,  1.57000e+02,  1.56000e+02,\n",
       "        1.55000e+02,  1.54000e+02,  1.53000e+02,  1.52000e+02,\n",
       "        1.51000e+02,  1.50000e+02,  1.49000e+02,  1.48000e+02,\n",
       "        1.47000e+02,  1.46000e+02,  1.44000e+02,  1.43000e+02,\n",
       "        1.42000e+02,  1.41000e+02,  1.40000e+02,  1.39000e+02,\n",
       "        1.38000e+02,  1.37000e+02,  1.36000e+02,  1.35000e+02,\n",
       "        1.34000e+02,  1.33000e+02,  1.32000e+02,  1.31000e+02,\n",
       "        1.30000e+02,  1.29000e+02,  1.28000e+02,  1.27000e+02,\n",
       "        1.26000e+02,  1.25000e+02,  1.24000e+02,  1.23000e+02,\n",
       "        1.22000e+02,  1.21000e+02,  1.20000e+02,  1.19000e+02,\n",
       "        1.18000e+02,  1.17000e+02,  1.16000e+02,  1.15000e+02,\n",
       "        1.14000e+02,  1.13000e+02,  1.12000e+02,  1.11000e+02,\n",
       "        1.10000e+02,  1.09000e+02,  1.08000e+02,  1.07000e+02,\n",
       "        1.06000e+02,  1.05000e+02,  1.04000e+02,  1.03000e+02,\n",
       "        1.02000e+02,  1.01000e+02,  1.00000e+02,  9.90000e+01,\n",
       "        9.80000e+01,  9.70000e+01,  9.60000e+01,  9.50000e+01,\n",
       "        9.40000e+01,  9.30000e+01,  9.20000e+01,  9.10000e+01,\n",
       "        9.00000e+01,  8.90000e+01,  8.80000e+01,  8.70000e+01,\n",
       "        8.60000e+01,  8.50000e+01,  8.40000e+01,  8.30000e+01,\n",
       "        8.20000e+01,  8.10000e+01,  8.00000e+01,  7.90000e+01,\n",
       "        7.80000e+01,  7.70000e+01,  7.60000e+01,  7.50000e+01,\n",
       "        7.40000e+01,  7.30000e+01,  7.20000e+01,  7.10000e+01,\n",
       "        7.00000e+01,  6.90000e+01,  6.80000e+01,  6.70000e+01,\n",
       "        6.60000e+01,  6.50000e+01,  6.40000e+01,  6.30000e+01,\n",
       "        6.20000e+01,  6.10000e+01,  6.00000e+01,  5.90000e+01,\n",
       "        5.80000e+01,  5.70000e+01,  5.60000e+01,  5.50000e+01,\n",
       "        5.40000e+01,  5.30000e+01,  5.20000e+01,  5.10000e+01,\n",
       "        5.00000e+01,  4.90000e+01,  4.80000e+01,  4.70000e+01,\n",
       "        4.60000e+01,  4.50000e+01,  4.40000e+01,  4.30000e+01,\n",
       "        4.20000e+01,  4.10000e+01,  4.00000e+01,  3.90000e+01,\n",
       "        3.80000e+01,  3.70000e+01,  3.60000e+01,  3.50000e+01,\n",
       "        3.40000e+01,  3.30000e+01,  3.20000e+01,  3.10000e+01,\n",
       "        3.00000e+01,  2.90000e+01,  2.80000e+01,  2.70000e+01,\n",
       "        2.60000e+01,  2.50000e+01,  2.40000e+01,  2.30000e+01,\n",
       "        2.20000e+01,  2.10000e+01,  2.00000e+01,  1.90000e+01,\n",
       "        1.80000e+01,  1.70000e+01,  1.60000e+01,  1.50000e+01,\n",
       "        1.40000e+01,  1.30000e+01,  1.20000e+01,  1.10000e+01,\n",
       "        1.00000e+01,  9.00000e+00,  8.00000e+00,  7.00000e+00,\n",
       "        6.00000e+00,  5.00000e+00,  4.00000e+00,  3.00000e+00,\n",
       "        2.00000e+00,  1.00000e+00,  0.00000e+00, -1.00000e+00,\n",
       "       -2.00000e+00, -3.00000e+00, -4.00000e+00, -5.00000e+00,\n",
       "       -6.00000e+00, -7.00000e+00, -8.00000e+00, -9.00000e+00,\n",
       "       -1.00000e+01, -1.10000e+01, -1.20000e+01, -1.30000e+01,\n",
       "       -1.40000e+01, -1.50000e+01, -1.60000e+01, -1.70000e+01,\n",
       "       -1.80000e+01, -1.90000e+01, -2.00000e+01, -2.10000e+01,\n",
       "       -2.20000e+01, -2.30000e+01, -2.40000e+01, -2.50000e+01,\n",
       "       -2.60000e+01, -2.70000e+01, -2.80000e+01, -2.90000e+01,\n",
       "       -3.00000e+01, -3.10000e+01, -3.20000e+01, -3.30000e+01,\n",
       "       -3.40000e+01, -3.50000e+01, -3.60000e+01, -3.70000e+01,\n",
       "       -3.80000e+01, -3.90000e+01, -4.00000e+01, -4.10000e+01,\n",
       "       -4.20000e+01, -4.30000e+01, -4.40000e+01, -4.50000e+01,\n",
       "       -4.60000e+01, -4.70000e+01, -4.80000e+01, -4.90000e+01,\n",
       "       -5.00000e+01, -5.10000e+01, -5.20000e+01, -5.30000e+01,\n",
       "       -5.40000e+01, -5.50000e+01, -5.60000e+01, -5.70000e+01,\n",
       "       -5.80000e+01, -5.90000e+01, -6.00000e+01, -6.10000e+01,\n",
       "       -6.20000e+01, -6.30000e+01, -6.40000e+01, -6.50000e+01,\n",
       "       -6.60000e+01, -6.70000e+01, -6.80000e+01, -6.90000e+01,\n",
       "       -7.00000e+01, -7.10000e+01, -7.20000e+01, -7.30000e+01,\n",
       "       -7.40000e+01, -7.50000e+01, -7.60000e+01, -7.70000e+01,\n",
       "       -7.80000e+01, -7.90000e+01, -8.00000e+01, -8.10000e+01,\n",
       "       -8.20000e+01, -8.30000e+01, -8.40000e+01, -8.50000e+01,\n",
       "       -8.60000e+01, -8.70000e+01, -8.80000e+01, -8.90000e+01,\n",
       "       -9.00000e+01, -9.10000e+01, -9.20000e+01, -9.30000e+01,\n",
       "       -9.40000e+01, -9.50000e+01, -9.60000e+01, -9.70000e+01,\n",
       "       -9.80000e+01, -9.90000e+01, -1.00000e+02,          nan])"
      ]
     },
     "execution_count": 19,
     "metadata": {},
     "output_type": "execute_result"
    }
   ],
   "source": [
    "# Quan sát bằng variable ROI thì xem xem cột này có các values nào, có NA hay ko:\n",
    "data2['ROI (%)'].unique()"
   ]
  },
  {
   "cell_type": "markdown",
   "metadata": {},
   "source": [
    "Oh yeah NaN value đã xuất hiện!! "
   ]
  },
  {
   "cell_type": "code",
   "execution_count": 20,
   "metadata": {},
   "outputs": [
    {
     "data": {
      "text/plain": [
       "(3891, 18)"
      ]
     },
     "execution_count": 20,
     "metadata": {},
     "output_type": "execute_result"
    }
   ],
   "source": [
    "# Làm sạch NaN value: trước hết, đổi NaN thành empty row để dropna sau. \n",
    "empty=data2.replace('nan','')\n",
    "data3= empty.dropna(subset=['ROI (%)'])\n",
    "data3.head()\n",
    "data3.shape"
   ]
  },
  {
   "cell_type": "markdown",
   "metadata": {},
   "source": [
    "Sau khi clean N/a xong, ta còn 3891 dòng để analyze, ko tệ! "
   ]
  },
  {
   "cell_type": "markdown",
   "metadata": {},
   "source": [
    "- Verify duplicate row & dummies data (hàm get_dummies) -- remove rows if it affects to the ROI value"
   ]
  },
  {
   "cell_type": "code",
   "execution_count": 21,
   "metadata": {},
   "outputs": [
    {
     "data": {
      "text/plain": [
       "(35, 18)"
      ]
     },
     "execution_count": 21,
     "metadata": {},
     "output_type": "execute_result"
    }
   ],
   "source": [
    "#Check if there is duplicated row\n",
    "duplicate = data3[data3.duplicated()]\n",
    "duplicate.head(10)\n",
    "duplicate.shape"
   ]
  },
  {
   "cell_type": "code",
   "execution_count": 22,
   "metadata": {},
   "outputs": [
    {
     "name": "stderr",
     "output_type": "stream",
     "text": [
      "/Users/chhquyen/anaconda3/lib/python3.7/site-packages/ipykernel_launcher.py:2: SettingWithCopyWarning: \n",
      "A value is trying to be set on a copy of a slice from a DataFrame\n",
      "\n",
      "See the caveats in the documentation: http://pandas.pydata.org/pandas-docs/stable/indexing.html#indexing-view-versus-copy\n",
      "  \n"
     ]
    },
    {
     "data": {
      "text/plain": [
       "(3856, 18)"
      ]
     },
     "execution_count": 22,
     "metadata": {},
     "output_type": "execute_result"
    }
   ],
   "source": [
    "#Delete dupplicated row\n",
    "data3.drop_duplicates(subset=None, keep='first', inplace=True)\n",
    "data3.shape "
   ]
  },
  {
   "cell_type": "markdown",
   "metadata": {},
   "source": [
    "3891-35 dòng dupplicate = 3856. Phew! "
   ]
  },
  {
   "cell_type": "code",
   "execution_count": 23,
   "metadata": {},
   "outputs": [
    {
     "data": {
      "text/plain": [
       "director_name              0\n",
       "num_critic_for_reviews     1\n",
       "duration                   1\n",
       "actor_2_name               5\n",
       "gross                      0\n",
       "genres                     0\n",
       "actor_1_name               3\n",
       "movie_title                0\n",
       "num_voted_users            0\n",
       "actor_3_name              10\n",
       "num_user_for_reviews       0\n",
       "language                   3\n",
       "country                    0\n",
       "content_rating            51\n",
       "budget                     0\n",
       "title_year                 0\n",
       "imdb_score                 0\n",
       "ROI (%)                    0\n",
       "dtype: int64"
      ]
     },
     "execution_count": 23,
     "metadata": {},
     "output_type": "execute_result"
    }
   ],
   "source": [
    "data3.isnull().sum()"
   ]
  },
  {
   "cell_type": "code",
   "execution_count": 24,
   "metadata": {},
   "outputs": [
    {
     "data": {
      "text/plain": [
       "<matplotlib.axes._subplots.AxesSubplot at 0x1a23369b70>"
      ]
     },
     "execution_count": 24,
     "metadata": {},
     "output_type": "execute_result"
    },
    {
     "data": {
      "image/png": "[encoded data removed]",
      "text/plain": [
       "<Figure size 720x504 with 1 Axes>"
      ]
     },
     "metadata": {
      "needs_background": "light"
     },
     "output_type": "display_data"
    }
   ],
   "source": [
    "plt.figure(figsize=(10,7))\n",
    "sns.heatmap(data3.isnull(), cbar=False)"
   ]
  },
  {
   "cell_type": "markdown",
   "metadata": {},
   "source": [
    "---> Bảng data ver3 này nhìn đã sạch sẽ hơn rồi. Tuy nhiên còn cần kiểm tra xem có data nào kì lạ (outlier) ko."
   ]
  },
  {
   "cell_type": "code",
   "execution_count": 25,
   "metadata": {},
   "outputs": [
    {
     "data": {
      "text/plain": [
       "<matplotlib.axes._subplots.AxesSubplot at 0x1a23c62f60>"
      ]
     },
     "execution_count": 25,
     "metadata": {},
     "output_type": "execute_result"
    },
    {
     "data": {
      "image/png": "[encoded data removed]",
      "text/plain": [
       "<Figure size 720x576 with 1 Axes>"
      ]
     },
     "metadata": {
      "needs_background": "light"
     },
     "output_type": "display_data"
    }
   ],
   "source": [
    "# Check outlier:\n",
    "plt.figure(figsize=(10,8))\n",
    "#sns.scatterplot(x=\"ROI (%)\", y='movie_title',data=top_ROI, color='g',legend = False)\n",
    "#y= data4['movie_title']\n",
    "x= list(data3['imdb_score'])\n",
    "sns.scatterplot(x,y= data3['ROI (%)'],data=data3, color='g',legend = False)"
   ]
  },
  {
   "cell_type": "markdown",
   "metadata": {},
   "source": [
    "--> Có 3 chấm xa quá xa so với toàn bộ phân bố của dữ liệu còn lại: xem lại dataframe để xác định xem các dữ liệu này có thực sự hợp lí hay ko để quyết định bỏ đi hoặc vẫn giữ lại. "
   ]
  },
  {
   "cell_type": "markdown",
   "metadata": {},
   "source": [
    "- Round up float64 number to interger ???"
   ]
  },
  {
   "cell_type": "markdown",
   "metadata": {},
   "source": [
    "- Sort this new dataframe in descending order--> Take top_100_success as the new dataframe to work with. \n",
    "\n",
    "- Also take top_100_failures dataframe, - top_100_imdb dataframe for the Extra part to verify our hypotheses. \n",
    "\n",
    "!!! Chú ý khi làm data top_100_imdb: chỉ lấy những fim có lượng vote lớn do lượng vote nhỏ quá sẽ không được khách quan. "
   ]
  },
  {
   "cell_type": "markdown",
   "metadata": {},
   "source": [
    "3.2 Processing data"
   ]
  },
  {
   "cell_type": "markdown",
   "metadata": {},
   "source": [
    "- tách genre ra\n",
    "- phân thành group để khi visualize lên có các màu khác nhau.\n",
    "- other ideas?\n"
   ]
  },
  {
   "cell_type": "code",
   "execution_count": null,
   "metadata": {},
   "outputs": [],
   "source": []
  },
  {
   "cell_type": "markdown",
   "metadata": {},
   "source": [
    "## 4. Visualization & observation"
   ]
  },
  {
   "cell_type": "markdown",
   "metadata": {},
   "source": [
    "- Plot this \"top100\" in different angles to see if any interesting thing appear.\n",
    "- Try to do simple charts to have a better understanding for audience. ( Last time team chị làm được mấy cái buble chart đẹp quá trời đẹp nhưng bị comment là hơi phức tạp - nếu present cho vd như CEO chẳng hạn thì vô nghĩa. Anw trong lớp thì được phép làm thoải mái, nhưng khi present phải dành time để giải thích chart kĩ càng cho mn hiểu. )\n",
    "\n",
    "- Maybe we even need to dig down more information that aren't in the dataframe to see a pattern. Lets discuss this on saturday"
   ]
  },
  {
   "cell_type": "code",
   "execution_count": 26,
   "metadata": {},
   "outputs": [
    {
     "data": {
      "image/png": "[encoded data removed]",
      "text/plain": [
       "<Figure size 720x504 with 1 Axes>"
      ]
     },
     "metadata": {
      "needs_background": "light"
     },
     "output_type": "display_data"
    }
   ],
   "source": [
    "# Imdb score \n",
    "data4=data3.sort_values(by='imdb_score',ascending=False) #sorting first\n",
    "plt.figure(figsize=(10,7))\n",
    "plt.hist(data4['imdb_score'],bins=300, color='red')\n",
    "plt.show()"
   ]
  },
  {
   "cell_type": "code",
   "execution_count": 27,
   "metadata": {},
   "outputs": [
    {
     "name": "stdout",
     "output_type": "stream",
     "text": [
      "IMDB median = 6.6\n",
      "IMDB mean = 6.46\n",
      "IMDB mode = 0    6.7\n",
      "dtype: float64\n",
      "IMDB min = 1.6\n",
      "IMDB max = 9.3\n"
     ]
    }
   ],
   "source": [
    "print('IMDB median =', data4['imdb_score'].median())\n",
    "print('IMDB mean =', round(data4['imdb_score'].mean(), 2))\n",
    "print('IMDB mode =', data4['imdb_score'].mode())\n",
    "print('IMDB min =', data4['imdb_score'].min())\n",
    "print('IMDB max =', data4['imdb_score'].max())"
   ]
  },
  {
   "cell_type": "markdown",
   "metadata": {},
   "source": [
    "Does it mean that we have some..outliers here? =____="
   ]
  },
  {
   "cell_type": "code",
   "execution_count": 28,
   "metadata": {},
   "outputs": [],
   "source": [
    "#plt.figure(figsize=(20,15))\n",
    "#sns.scatterplot(x=\"ROI (%)\", y='movie_title',data=top_ROI, color='g',legend = False)\n",
    "#y= data4['movie_title']\n",
    "#x= list(data4['imdb_score'])\n",
    "\n",
    "#sns.scatterplot(x,y=data4['budget'],data=data4, color='g',legend = False)"
   ]
  },
  {
   "cell_type": "markdown",
   "metadata": {},
   "source": [
    "## 5. Extra\n"
   ]
  },
  {
   "cell_type": "markdown",
   "metadata": {},
   "source": [
    "Verify if the same observation of top_100_success happen in top_100_failures & top_100_imdb or not"
   ]
  },
  {
   "cell_type": "markdown",
   "metadata": {},
   "source": [
    "# 6. Conclusion"
   ]
  },
  {
   "cell_type": "code",
   "execution_count": null,
   "metadata": {},
   "outputs": [],
   "source": []
  },
  {
   "cell_type": "code",
   "execution_count": null,
   "metadata": {},
   "outputs": [],
   "source": []
  }
 ],
 "metadata": {
  "kernelspec": {
   "display_name": "Python 3",
   "language": "python",
   "name": "python3"
  },
  "language_info": {
   "codemirror_mode": {
    "name": "ipython",
    "version": 3
   },
   "file_extension": ".py",
   "mimetype": "text/x-python",
   "name": "python",
   "nbconvert_exporter": "python",
   "pygments_lexer": "ipython3",
   "version": "3.7.0"
  }
 },
 "nbformat": 4,
 "nbformat_minor": 2
}
